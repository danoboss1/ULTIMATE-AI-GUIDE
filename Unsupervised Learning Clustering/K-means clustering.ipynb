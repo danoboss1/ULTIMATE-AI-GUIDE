{
 "cells": [
  {
   "cell_type": "markdown",
   "id": "eddb283e-460d-4d2e-afe7-c45fb9d604d8",
   "metadata": {},
   "source": [
    "# Importing Libraries"
   ]
  },
  {
   "cell_type": "code",
   "execution_count": 2,
   "id": "1f44b105-4af7-4e92-8872-a067909a1bbb",
   "metadata": {},
   "outputs": [],
   "source": [
    "import numpy as np \n",
    "import matplotlib.pyplot as plt"
   ]
  },
  {
   "cell_type": "markdown",
   "id": "bf3ee6b8-d72e-4e94-b9b4-b5c4a72e7fbe",
   "metadata": {},
   "source": [
    "# Dataset"
   ]
  },
  {
   "cell_type": "code",
   "execution_count": 7,
   "id": "3b152902-7e30-4672-a9d6-f1c8a30ac934",
   "metadata": {},
   "outputs": [],
   "source": [
    "# pair of spendings in bookshop of customer and his/her age \n",
    "customers = np.array([[23000,54], [15000,59], [16000,46], [1000,18], [19000,44],\n",
    "                    [300,20], [70, 34], [400,19], [9000,57], [9000,30],\n",
    "                    [10, 33], [500,11], [22000, 48], [500, 28], [1700, 35]])"
   ]
  },
  {
   "cell_type": "markdown",
   "id": "a0e043a1-af45-491f-8eb6-840b19915fdb",
   "metadata": {},
   "source": [
    "# Feature Scaling"
   ]
  },
  {
   "cell_type": "code",
   "execution_count": 11,
   "id": "05561e25-0737-4bd6-aabd-5a43839d7ac3",
   "metadata": {},
   "outputs": [
    {
     "name": "stdout",
     "output_type": "stream",
     "text": [
      "[[ 1.77000091  1.24889114]\n",
      " [ 0.83645613  1.59074091]\n",
      " [ 0.95314923  0.70193152]\n",
      " [-0.79724725 -1.21242717]\n",
      " [ 1.30322852  0.56519161]\n",
      " [-0.87893241 -1.07568726]\n",
      " [-0.90577183 -0.11850792]\n",
      " [-0.86726311 -1.14405722]\n",
      " [ 0.13629754  1.454001  ]\n",
      " [ 0.13629754 -0.39198773]\n",
      " [-0.91277341 -0.18687787]\n",
      " [-0.8555938  -1.69101684]\n",
      " [ 1.65330781  0.83867143]\n",
      " [-0.8555938  -0.52872764]\n",
      " [-0.71556208 -0.05013797]]\n"
     ]
    }
   ],
   "source": [
    "from sklearn.preprocessing import StandardScaler\n",
    "scaler = StandardScaler()\n",
    "customers = scaler.fit_transform(customers)\n",
    "\n",
    "# print(customers)"
   ]
  },
  {
   "cell_type": "markdown",
   "id": "26f5c559-87b4-4f22-9db1-8a5024a6da39",
   "metadata": {},
   "source": [
    "# K-means Unsupervised Clustering Algorithm"
   ]
  },
  {
   "cell_type": "code",
   "execution_count": 42,
   "id": "c2310c19-09fb-4d38-afce-605bbbb73423",
   "metadata": {},
   "outputs": [],
   "source": [
    "# np.sqrt((p[0] - q[0]) * (p[0] - q[0]) + (p[1] - q[1]) * (p[1] - q[1]))\n",
    "def euclidean_distance(p, q):\n",
    "    return np.sqrt(np.sum((np.array(p) - np.array(q)) ** 2))"
   ]
  },
  {
   "cell_type": "code",
   "execution_count": 43,
   "id": "27e66ee9-3165-40df-8bcd-aed6978b9c14",
   "metadata": {},
   "outputs": [],
   "source": [
    "def initialize_centroids(dataset, number_of_clusters):\n",
    "    \"\"\"Randomly initialize centroids from the dataset points\"\"\"\n",
    "    np.random.seed(42)\n",
    "    centroids_indexes = np.random.choice(len(dataset), size = number_of_clusters)\n",
    "    return dataset[centroids_indexes]"
   ]
  },
  {
   "cell_type": "code",
   "execution_count": 44,
   "id": "3b7d8f35-7414-45eb-a4c4-b3da8246648a",
   "metadata": {},
   "outputs": [
    {
     "name": "stdout",
     "output_type": "stream",
     "text": [
      "[[-0.90577183 -0.11850792]\n",
      " [-0.79724725 -1.21242717]\n",
      " [ 1.65330781  0.83867143]]\n"
     ]
    }
   ],
   "source": [
    "idxs = initialize_centroids(customers, 3)\n",
    "print(idxs)"
   ]
  },
  {
   "cell_type": "code",
   "execution_count": 45,
   "id": "8244bf31-ef9a-42e5-8323-fef9822a5c02",
   "metadata": {},
   "outputs": [],
   "source": [
    "def assign_clusters(dataset, centroids):\n",
    "    \"\"\"Assign each point to the nearest centroid\"\"\"\n",
    "    clusters = [[] for _ in range(len(centroids))]\n",
    "\n",
    "    for customer in dataset:\n",
    "        distance_from_first_cluster = euclidean_distance(customer, centroids[0])\n",
    "        distance_from_second_cluster = euclidean_distance(customer, centroids[1])\n",
    "        distance_from_third_cluster = euclidean_distance(customer, centroids[2])\n",
    "        \n",
    "        distances = [distance_from_first_cluster, distance_from_second_cluster, distance_from_third_cluster]\n",
    "        closest_centroid_index = np.argmin(distances)\n",
    "        clusters[closest_centroid_index].append(customer)\n",
    "\n",
    "    return clusters"
   ]
  },
  {
   "cell_type": "code",
   "execution_count": 46,
   "id": "41a10c32-b93f-4b91-8f90-6ae1f3c77c49",
   "metadata": {},
   "outputs": [
    {
     "name": "stdout",
     "output_type": "stream",
     "text": [
      "[[array([-0.90577183, -0.11850792]), array([ 0.13629754, -0.39198773]), array([-0.91277341, -0.18687787]), array([-0.8555938 , -0.52872764]), array([-0.71556208, -0.05013797])], [array([-0.79724725, -1.21242717]), array([-0.87893241, -1.07568726]), array([-0.86726311, -1.14405722]), array([-0.8555938 , -1.69101684])], [array([1.77000091, 1.24889114]), array([0.83645613, 1.59074091]), array([0.95314923, 0.70193152]), array([1.30322852, 0.56519161]), array([0.13629754, 1.454001  ]), array([1.65330781, 0.83867143])]]\n"
     ]
    }
   ],
   "source": [
    "clusters = assign_clusters(customers, idxs)\n",
    "print(clusters)"
   ]
  },
  {
   "cell_type": "code",
   "execution_count": null,
   "id": "8926b171-b088-4342-a652-3ac9af8e12b8",
   "metadata": {},
   "outputs": [],
   "source": [
    "def update_centroids(clusters):\n",
    "    \"\"\"Update centroids by calculating the mean of all points assigned to each cluster\"\"\"\n",
    "    pass"
   ]
  },
  {
   "cell_type": "code",
   "execution_count": null,
   "id": "38509229-3b1a-43c1-b1ed-a84c71dbcc87",
   "metadata": {},
   "outputs": [],
   "source": [
    "def KMeans_algorithm(points, k, max_iters=100):\n",
    "    \"\"\"KMeans clustering algorithm implementation\"\"\"\n",
    "    pass"
   ]
  },
  {
   "cell_type": "code",
   "execution_count": null,
   "id": "591c56dd-68dc-4542-bae2-c97bbfb4284c",
   "metadata": {},
   "outputs": [],
   "source": [
    "# nastavit zakladne parametre, zavolat KMeans_algorithm"
   ]
  },
  {
   "cell_type": "markdown",
   "id": "7522d9e8-00d6-44bd-8b75-ec4224ebce76",
   "metadata": {},
   "source": [
    "# Visualization"
   ]
  },
  {
   "cell_type": "code",
   "execution_count": null,
   "id": "5fd9e2ac-5791-4826-86c8-2d4bb2167713",
   "metadata": {},
   "outputs": [],
   "source": []
  }
 ],
 "metadata": {
  "kernelspec": {
   "display_name": "Python 3 (ipykernel)",
   "language": "python",
   "name": "python3"
  },
  "language_info": {
   "codemirror_mode": {
    "name": "ipython",
    "version": 3
   },
   "file_extension": ".py",
   "mimetype": "text/x-python",
   "name": "python",
   "nbconvert_exporter": "python",
   "pygments_lexer": "ipython3",
   "version": "3.11.0"
  }
 },
 "nbformat": 4,
 "nbformat_minor": 5
}
