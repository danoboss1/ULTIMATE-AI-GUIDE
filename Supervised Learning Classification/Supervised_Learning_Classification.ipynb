{
 "cells": [
  {
   "cell_type": "markdown",
   "id": "11258e30-ff4c-460c-8805-8d1abe9a014b",
   "metadata": {},
   "source": [
    "# Importing Libraries"
   ]
  },
  {
   "cell_type": "code",
   "execution_count": 1,
   "id": "51224fe7-2a47-4a29-9e43-8b9897275857",
   "metadata": {},
   "outputs": [],
   "source": [
    "import numpy as np\n",
    "import pandas as pd\n",
    "import matplotlib.pyplot as plt"
   ]
  },
  {
   "cell_type": "markdown",
   "id": "eebf4dc0-0989-4102-a837-46b2210f7183",
   "metadata": {},
   "source": [
    "# Data Preprocessing"
   ]
  },
  {
   "cell_type": "markdown",
   "id": "851af629-62aa-46a6-884e-c73d43db2824",
   "metadata": {},
   "source": [
    "## Loading the Dataset"
   ]
  },
  {
   "cell_type": "code",
   "execution_count": 2,
   "id": "2dd0ef92-3579-4706-bbfc-c88cae483ce7",
   "metadata": {},
   "outputs": [
    {
     "name": "stdout",
     "output_type": "stream",
     "text": [
      "    Unnamed: 0  Temperature  Humidity  WindSpeed  Rainy\n",
      "0            0     0.374540  0.031429          7      0\n",
      "1            1     0.950714  0.636410          3      0\n",
      "2            2     0.731994  0.314356          0      1\n",
      "3            3     0.598658  0.508571          7      1\n",
      "4            4     0.156019  0.907566          3      1\n",
      "..         ...          ...       ...        ...    ...\n",
      "95          95     0.493796  0.349210          3      0\n",
      "96          96     0.522733  0.725956          3      1\n",
      "97          97     0.427541  0.897110          0      1\n",
      "98          98     0.025419       NaN          7      1\n",
      "99          99     0.107891  0.779876          2      0\n",
      "\n",
      "[100 rows x 5 columns]\n",
      "Index(['Unnamed: 0', 'Temperature', 'Humidity', 'WindSpeed', 'Rainy'], dtype='object')\n",
      "(100, 5)\n"
     ]
    }
   ],
   "source": [
    "# load the data\n",
    "df = pd.read_csv('Temperature_predictions.csv')\n",
    "\n",
    "# get information about data\n",
    "print(df)\n",
    "print(df.columns)\n",
    "print(df.shape)"
   ]
  },
  {
   "cell_type": "markdown",
   "id": "87862234-7047-4fcf-b31c-e328b62e18af",
   "metadata": {},
   "source": [
    "## Splitting Dataset into Input and Output Features"
   ]
  },
  {
   "cell_type": "code",
   "execution_count": 4,
   "id": "ce990cbb-a227-47fb-b44d-b2e294fbadd6",
   "metadata": {},
   "outputs": [
    {
     "name": "stdout",
     "output_type": "stream",
     "text": [
      "    Unnamed: 0  Temperature  Humidity  WindSpeed\n",
      "0            0     0.374540  0.031429          7\n",
      "1            1     0.950714  0.636410          3\n",
      "2            2     0.731994  0.314356          0\n",
      "3            3     0.598658  0.508571          7\n",
      "4            4     0.156019  0.907566          3\n",
      "..         ...          ...       ...        ...\n",
      "95          95     0.493796  0.349210          3\n",
      "96          96     0.522733  0.725956          3\n",
      "97          97     0.427541  0.897110          0\n",
      "98          98     0.025419       NaN          7\n",
      "99          99     0.107891  0.779876          2\n",
      "\n",
      "[100 rows x 4 columns]\n",
      "0     0\n",
      "1     0\n",
      "2     1\n",
      "3     1\n",
      "4     1\n",
      "     ..\n",
      "95    0\n",
      "96    1\n",
      "97    1\n",
      "98    1\n",
      "99    0\n",
      "Name: Rainy, Length: 100, dtype: int64\n"
     ]
    }
   ],
   "source": [
    "# think what are the inputs and what is the output, what data we need for model training and what operation should we do on data\n",
    "X = df.iloc[:,:-1]\n",
    "y = df.iloc[:,-1]\n",
    "\n",
    "print(X)\n",
    "print(y)"
   ]
  },
  {
   "cell_type": "markdown",
   "id": "f199cac4-bb8b-4871-9f00-21a82ab0db9c",
   "metadata": {},
   "source": [
    "## Missing data"
   ]
  },
  {
   "cell_type": "code",
   "execution_count": null,
   "id": "f6ada19f-9224-46e2-a2ec-c26f3f840824",
   "metadata": {},
   "outputs": [],
   "source": []
  },
  {
   "cell_type": "markdown",
   "id": "a7ca1b7e-7eb6-47f3-8e28-5286756ad675",
   "metadata": {},
   "source": [
    "## Splitting data into training and testing dataset"
   ]
  },
  {
   "cell_type": "code",
   "execution_count": null,
   "id": "a9ab9f0c-5645-4b26-acb5-a229c18c3874",
   "metadata": {},
   "outputs": [],
   "source": []
  },
  {
   "cell_type": "markdown",
   "id": "c652b34a-1a99-42e7-8ac5-757dce2e42c8",
   "metadata": {},
   "source": [
    "# Training the Decision Tree Classification Model "
   ]
  },
  {
   "cell_type": "code",
   "execution_count": null,
   "id": "903ede37-5df2-43cc-a5b4-a8878cbe2833",
   "metadata": {},
   "outputs": [],
   "source": []
  },
  {
   "cell_type": "markdown",
   "id": "d2e548a9-9dc5-485c-9f43-0e38c4e2e0ce",
   "metadata": {},
   "source": [
    "# Testing the Model with Predictions"
   ]
  },
  {
   "cell_type": "code",
   "execution_count": null,
   "id": "ce8fea07-0443-4892-a26f-c167ad926c44",
   "metadata": {},
   "outputs": [],
   "source": []
  }
 ],
 "metadata": {
  "kernelspec": {
   "display_name": "Python 3 (ipykernel)",
   "language": "python",
   "name": "python3"
  },
  "language_info": {
   "codemirror_mode": {
    "name": "ipython",
    "version": 3
   },
   "file_extension": ".py",
   "mimetype": "text/x-python",
   "name": "python",
   "nbconvert_exporter": "python",
   "pygments_lexer": "ipython3",
   "version": "3.11.0"
  }
 },
 "nbformat": 4,
 "nbformat_minor": 5
}
