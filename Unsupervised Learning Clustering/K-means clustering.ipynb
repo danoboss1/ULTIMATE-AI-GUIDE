{
 "cells": [
  {
   "cell_type": "markdown",
   "id": "eddb283e-460d-4d2e-afe7-c45fb9d604d8",
   "metadata": {},
   "source": [
    "# Importing Libraries"
   ]
  },
  {
   "cell_type": "code",
   "execution_count": 128,
   "id": "1f44b105-4af7-4e92-8872-a067909a1bbb",
   "metadata": {},
   "outputs": [],
   "source": [
    "import numpy as np \n",
    "import matplotlib.pyplot as plt"
   ]
  },
  {
   "cell_type": "markdown",
   "id": "bf3ee6b8-d72e-4e94-b9b4-b5c4a72e7fbe",
   "metadata": {},
   "source": [
    "# Dataset"
   ]
  },
  {
   "cell_type": "code",
   "execution_count": 144,
   "id": "3b152902-7e30-4672-a9d6-f1c8a30ac934",
   "metadata": {},
   "outputs": [
    {
     "name": "stdout",
     "output_type": "stream",
     "text": [
      "Mean: [7832.           35.06666667]\n",
      "Standard Deviation: [8569.48711028   15.18098225]\n"
     ]
    }
   ],
   "source": [
    "# pair of spendings in bookshop of customer and his/her age \n",
    "customers = np.array([[23000,54], [15000,59], [16000,46], [1000,18], [19000,44],\n",
    "                    [300,20], [70, 34], [400,19], [9000,57], [9000,30],\n",
    "                    [10, 33], [500,11], [22000, 48], [500, 18], [1700, 35]])\n",
    "\n",
    "mean = np.mean(customers, axis=0)  # axis=0 computes mean across rows\n",
    "std_dev = np.std(customers, axis=0)  # axis=0 computes std deviation across rows\n",
    "\n",
    "print(\"Mean:\", mean)\n",
    "print(\"Standard Deviation:\", std_dev)"
   ]
  },
  {
   "cell_type": "markdown",
   "id": "a0e043a1-af45-491f-8eb6-840b19915fdb",
   "metadata": {},
   "source": [
    "# Feature Scaling"
   ]
  },
  {
   "cell_type": "code",
   "execution_count": 143,
   "id": "05561e25-0737-4bd6-aabd-5a43839d7ac3",
   "metadata": {},
   "outputs": [
    {
     "name": "stdout",
     "output_type": "stream",
     "text": [
      "[[ 1.77000091  1.24717446]\n",
      " [ 0.83645613  1.57653391]\n",
      " [ 0.95314923  0.72019934]\n",
      " [-0.79724725 -1.1242136 ]\n",
      " [ 1.30322852  0.58845555]\n",
      " [-0.87893241 -0.99246982]\n",
      " [-0.90577183 -0.07026335]\n",
      " [-0.86726311 -1.05834171]\n",
      " [ 0.13629754  1.44479013]\n",
      " [ 0.13629754 -0.33375091]\n",
      " [-0.91277341 -0.13613524]\n",
      " [-0.8555938  -1.58531683]\n",
      " [ 1.65330781  0.85194312]\n",
      " [-0.8555938  -1.1242136 ]\n",
      " [-0.71556208 -0.00439146]]\n"
     ]
    }
   ],
   "source": [
    "from sklearn.preprocessing import StandardScaler\n",
    "scaler = StandardScaler()\n",
    "customers = scaler.fit_transform(customers)\n",
    "\n",
    "print(customers)"
   ]
  },
  {
   "cell_type": "markdown",
   "id": "26f5c559-87b4-4f22-9db1-8a5024a6da39",
   "metadata": {},
   "source": [
    "# K-means Unsupervised Clustering Algorithm"
   ]
  },
  {
   "cell_type": "code",
   "execution_count": 131,
   "id": "c2310c19-09fb-4d38-afce-605bbbb73423",
   "metadata": {},
   "outputs": [],
   "source": [
    "# np.sqrt((p[0] - q[0]) * (p[0] - q[0]) + (p[1] - q[1]) * (p[1] - q[1]))\n",
    "def euclidean_distance(p, q):\n",
    "    return np.sqrt(np.sum((np.array(p) - np.array(q)) ** 2))"
   ]
  },
  {
   "cell_type": "code",
   "execution_count": 132,
   "id": "27e66ee9-3165-40df-8bcd-aed6978b9c14",
   "metadata": {},
   "outputs": [],
   "source": [
    "def initialize_centroids(dataset, number_of_clusters):\n",
    "    \"\"\"Randomly initialize centroids from the dataset points\"\"\"\n",
    "    np.random.seed(42)\n",
    "    centroids_indexes = np.random.choice(len(dataset), size = number_of_clusters)\n",
    "    return dataset[centroids_indexes]"
   ]
  },
  {
   "cell_type": "code",
   "execution_count": 133,
   "id": "3b7d8f35-7414-45eb-a4c4-b3da8246648a",
   "metadata": {},
   "outputs": [
    {
     "name": "stdout",
     "output_type": "stream",
     "text": [
      "[[-0.90577183 -0.07026335]\n",
      " [-0.79724725 -1.1242136 ]\n",
      " [ 1.65330781  0.85194312]]\n"
     ]
    }
   ],
   "source": [
    "centroids = initialize_centroids(customers, 3)\n",
    "print(centroids)"
   ]
  },
  {
   "cell_type": "code",
   "execution_count": 134,
   "id": "8244bf31-ef9a-42e5-8323-fef9822a5c02",
   "metadata": {},
   "outputs": [],
   "source": [
    "def assign_clusters(dataset, centroids):\n",
    "    \"\"\"Assign each point to the nearest centroid\"\"\"\n",
    "    clusters = [[] for _ in range(len(centroids))]\n",
    "\n",
    "    for customer in dataset:\n",
    "        distance_from_first_cluster = euclidean_distance(customer, centroids[0])\n",
    "        distance_from_second_cluster = euclidean_distance(customer, centroids[1])\n",
    "        distance_from_third_cluster = euclidean_distance(customer, centroids[2])\n",
    "        \n",
    "        distances = [distance_from_first_cluster, distance_from_second_cluster, distance_from_third_cluster]\n",
    "        closest_centroid_index = np.argmin(distances)\n",
    "        clusters[closest_centroid_index].append(customer)\n",
    "\n",
    "    return clusters"
   ]
  },
  {
   "cell_type": "code",
   "execution_count": 135,
   "id": "41a10c32-b93f-4b91-8f90-6ae1f3c77c49",
   "metadata": {},
   "outputs": [
    {
     "name": "stdout",
     "output_type": "stream",
     "text": [
      "[[array([-0.90577183, -0.07026335]), array([ 0.13629754, -0.33375091]), array([-0.91277341, -0.13613524]), array([-0.71556208, -0.00439146])], [array([-0.79724725, -1.1242136 ]), array([-0.87893241, -0.99246982]), array([-0.86726311, -1.05834171]), array([-0.8555938 , -1.58531683]), array([-0.8555938, -1.1242136])], [array([1.77000091, 1.24717446]), array([0.83645613, 1.57653391]), array([0.95314923, 0.72019934]), array([1.30322852, 0.58845555]), array([0.13629754, 1.44479013]), array([1.65330781, 0.85194312])]]\n"
     ]
    }
   ],
   "source": [
    "clusters = assign_clusters(customers, centroids)\n",
    "print(clusters)"
   ]
  },
  {
   "cell_type": "code",
   "execution_count": 136,
   "id": "8926b171-b088-4342-a652-3ac9af8e12b8",
   "metadata": {},
   "outputs": [],
   "source": [
    "def update_centroids(clusters):\n",
    "    \"\"\"Update centroids by calculating the mean of all points assigned to each cluster\"\"\"\n",
    "    new_centroids = []\n",
    "    \n",
    "    for sublist in clusters:\n",
    "        sublist_mean = np.mean(sublist, axis=0)\n",
    "        new_centroids.append(sublist_mean)\n",
    "\n",
    "    return new_centroids"
   ]
  },
  {
   "cell_type": "code",
   "execution_count": 137,
   "id": "43f478cf-26f9-4221-8914-b1d92fbd65f2",
   "metadata": {},
   "outputs": [
    {
     "name": "stdout",
     "output_type": "stream",
     "text": [
      "[array([-0.59945244, -0.13613524]), array([-0.85092607, -1.17691111]), array([1.10874002, 1.07151608])]\n"
     ]
    }
   ],
   "source": [
    "centroids = update_centroids(clusters)\n",
    "print(centroids)"
   ]
  },
  {
   "cell_type": "code",
   "execution_count": 138,
   "id": "38509229-3b1a-43c1-b1ed-a84c71dbcc87",
   "metadata": {},
   "outputs": [],
   "source": [
    "def KMeans_algorithm(points, k, max_iters=100):\n",
    "    \"\"\"KMeans clustering algorithm implementation\"\"\"\n",
    "    centroids = initialize_centroids(points, k)\n",
    "    \n",
    "    for i in range(max_iters):\n",
    "        clusters = assign_clusters(points, centroids)\n",
    "        new_centroids = update_centroids(clusters)\n",
    "        print(i)\n",
    "        \n",
    "        # Check for convergence (if centroids don't change)\n",
    "        if np.all(np.array(new_centroids) == np.array(centroids)):\n",
    "            break\n",
    "        \n",
    "        centroids = new_centroids\n",
    "\n",
    "    return clusters, centroids"
   ]
  },
  {
   "cell_type": "code",
   "execution_count": 139,
   "id": "591c56dd-68dc-4542-bae2-c97bbfb4284c",
   "metadata": {},
   "outputs": [
    {
     "name": "stdout",
     "output_type": "stream",
     "text": [
      "0\n",
      "1\n",
      "[[array([-0.90577183, -0.07026335]), array([ 0.13629754, -0.33375091]), array([-0.91277341, -0.13613524]), array([-0.71556208, -0.00439146])], [array([-0.79724725, -1.1242136 ]), array([-0.87893241, -0.99246982]), array([-0.86726311, -1.05834171]), array([-0.8555938 , -1.58531683]), array([-0.8555938, -1.1242136])], [array([1.77000091, 1.24717446]), array([0.83645613, 1.57653391]), array([0.95314923, 0.72019934]), array([1.30322852, 0.58845555]), array([0.13629754, 1.44479013]), array([1.65330781, 0.85194312])]]\n",
      "\n",
      "\n",
      "[array([-0.59945244, -0.13613524]), array([-0.85092607, -1.17691111]), array([1.10874002, 1.07151608])]\n"
     ]
    }
   ],
   "source": [
    "# nastavit zakladne parametre, zavolat KMeans_algorithm\n",
    "num_of_clusters = 3 \n",
    "clusters, centroids = KMeans_algorithm(customers, num_of_clusters, max_iters=100)\n",
    "\n",
    "print(clusters)\n",
    "print('\\n')\n",
    "print(centroids)"
   ]
  },
  {
   "cell_type": "markdown",
   "id": "7522d9e8-00d6-44bd-8b75-ec4224ebce76",
   "metadata": {},
   "source": [
    "# Visualization"
   ]
  },
  {
   "cell_type": "code",
   "execution_count": 140,
   "id": "5fd9e2ac-5791-4826-86c8-2d4bb2167713",
   "metadata": {},
   "outputs": [],
   "source": [
    "GLOBAL_white = \"#FFFFFF\"\n",
    "GLOBAL_blue = \"#104DCA\"\n",
    "GLOBAL_red = \"#FF0000\""
   ]
  },
  {
   "cell_type": "code",
   "execution_count": 159,
   "id": "4547bcd3-e015-45eb-b8b5-2c02c10dfc59",
   "metadata": {},
   "outputs": [],
   "source": [
    "def visualization(clusters, centroids):\n",
    "    ax = plt.subplot()\n",
    "    ax.grid(True, color=\"#323232\")\n",
    "    ax.set_facecolor(\"#000000\")\n",
    "    ax.figure.set_facecolor(\"#121212\")\n",
    "    ax.tick_params(axis=\"x\", color=\"white\")\n",
    "    ax.tick_params(axis=\"y\", color=\"white\")\n",
    "\n",
    "    colors = [GLOBAL_blue, GLOBAL_red, GLOBAL_white]\n",
    "\n",
    "    for idx, cluster in enumerate(clusters):\n",
    "        cluster = np.array(cluster)\n",
    "        if len(cluster) > 0:\n",
    "            ax.scatter(cluster[:, 0], cluster[:, 1], color=colors[idx], s=60)\n",
    "    \n",
    "    for idx, centroid in enumerate(centroids):\n",
    "        ax.scatter(centroid[0], centroid[1], color=colors[idx], marker=\"*\", s=200, zorder=100)\n",
    "\n",
    "    plt.show()"
   ]
  },
  {
   "cell_type": "code",
   "execution_count": 160,
   "id": "8a85d400-22fe-4f4e-b689-01950edcb6c1",
   "metadata": {},
   "outputs": [
    {
     "data": {
      "image/png": "[encoded data removed]",
      "text/plain": [
       "<Figure size 640x480 with 1 Axes>"
      ]
     },
     "metadata": {},
     "output_type": "display_data"
    }
   ],
   "source": [
    " visualization(clusters, centroids)"
   ]
  },
  {
   "cell_type": "code",
   "execution_count": 161,
   "id": "ce9ca775-2aab-4bbf-aeaf-c5c3915f58c8",
   "metadata": {},
   "outputs": [],
   "source": [
    "# Static mapping of original to standardized values\n",
    "static_mapping = {\n",
    "    (23000, 54): [-0.90577183, -0.07026335],\n",
    "    (15000, 59): [0.13629754, -0.33375091],\n",
    "    (16000, 46): [-0.91277341, -0.13613524],\n",
    "    (1000, 18): [-0.71556208, -0.00439146],\n",
    "    (19000, 44): [-0.79724725, -1.1242136],\n",
    "    (300, 20): [-0.87893241, -0.99246982],\n",
    "    (70, 34): [-0.86726311, -1.05834171],\n",
    "    (400, 19): [-0.8555938, -1.58531683],\n",
    "    (9000, 57): [1.77000091, 1.24717446],\n",
    "    (9000, 30): [0.83645613, 1.57653391],\n",
    "    (10, 33): [0.95314923, 0.72019934],\n",
    "    (500, 11): [1.30322852, 0.58845555],\n",
    "    (22000, 48): [0.13629754, 1.44479013],\n",
    "    (500, 18): [1.65330781, 0.85194312]\n",
    "}"
   ]
  }
 ],
 "metadata": {
  "kernelspec": {
   "display_name": "Python 3 (ipykernel)",
   "language": "python",
   "name": "python3"
  },
  "language_info": {
   "codemirror_mode": {
    "name": "ipython",
    "version": 3
   },
   "file_extension": ".py",
   "mimetype": "text/x-python",
   "name": "python",
   "nbconvert_exporter": "python",
   "pygments_lexer": "ipython3",
   "version": "3.11.0"
  }
 },
 "nbformat": 4,
 "nbformat_minor": 5
}
