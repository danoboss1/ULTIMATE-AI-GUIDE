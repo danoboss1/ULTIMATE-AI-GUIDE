{
 "cells": [
  {
   "cell_type": "markdown",
   "id": "11258e30-ff4c-460c-8805-8d1abe9a014b",
   "metadata": {},
   "source": [
    "# Importing Libraries"
   ]
  },
  {
   "cell_type": "code",
   "execution_count": 18,
   "id": "51224fe7-2a47-4a29-9e43-8b9897275857",
   "metadata": {},
   "outputs": [],
   "source": [
    "import numpy as np\n",
    "import pandas as pd\n",
    "import matplotlib.pyplot as plt"
   ]
  },
  {
   "cell_type": "markdown",
   "id": "eebf4dc0-0989-4102-a837-46b2210f7183",
   "metadata": {},
   "source": [
    "# Data Preprocessing"
   ]
  },
  {
   "cell_type": "markdown",
   "id": "851af629-62aa-46a6-884e-c73d43db2824",
   "metadata": {},
   "source": [
    "## Loading the Dataset"
   ]
  },
  {
   "cell_type": "code",
   "execution_count": 19,
   "id": "2dd0ef92-3579-4706-bbfc-c88cae483ce7",
   "metadata": {},
   "outputs": [
    {
     "name": "stdout",
     "output_type": "stream",
     "text": [
      "    Unnamed: 0  Temperature  Humidity  WindSpeed  Rainy\n",
      "0            0     0.374540  0.031429          7      0\n",
      "1            1     0.950714  0.636410          3      0\n",
      "2            2     0.731994  0.314356          0      1\n",
      "3            3     0.598658  0.508571          7      1\n",
      "4            4     0.156019  0.907566          3      1\n",
      "..         ...          ...       ...        ...    ...\n",
      "95          95     0.493796  0.349210          3      0\n",
      "96          96     0.522733  0.725956          3      1\n",
      "97          97     0.427541  0.897110          0      1\n",
      "98          98     0.025419       NaN          7      1\n",
      "99          99     0.107891  0.779876          2      0\n",
      "\n",
      "[100 rows x 5 columns]\n",
      "    Temperature  Humidity  WindSpeed  Rainy\n",
      "0      0.374540  0.031429          7      0\n",
      "1      0.950714  0.636410          3      0\n",
      "2      0.731994  0.314356          0      1\n",
      "3      0.598658  0.508571          7      1\n",
      "4      0.156019  0.907566          3      1\n",
      "..          ...       ...        ...    ...\n",
      "95     0.493796  0.349210          3      0\n",
      "96     0.522733  0.725956          3      1\n",
      "97     0.427541  0.897110          0      1\n",
      "98     0.025419       NaN          7      1\n",
      "99     0.107891  0.779876          2      0\n",
      "\n",
      "[100 rows x 4 columns]\n",
      "Index(['Temperature', 'Humidity', 'WindSpeed', 'Rainy'], dtype='object')\n",
      "(100, 4)\n"
     ]
    }
   ],
   "source": [
    "# load the data\n",
    "df = pd.read_csv('Temperature_predictions.csv')\n",
    "\n",
    "# get information about data\n",
    "print(df)\n",
    "\n",
    "df = df.iloc[:, 1:]\n",
    "print(df)\n",
    "\n",
    "print(df.columns)\n",
    "print(df.shape)"
   ]
  },
  {
   "cell_type": "markdown",
   "id": "87862234-7047-4fcf-b31c-e328b62e18af",
   "metadata": {},
   "source": [
    "## Splitting Dataset into Input and Output Features"
   ]
  },
  {
   "cell_type": "code",
   "execution_count": 20,
   "id": "ce990cbb-a227-47fb-b44d-b2e294fbadd6",
   "metadata": {},
   "outputs": [
    {
     "name": "stdout",
     "output_type": "stream",
     "text": [
      "    Temperature  Humidity  WindSpeed\n",
      "0      0.374540  0.031429          7\n",
      "1      0.950714  0.636410          3\n",
      "2      0.731994  0.314356          0\n",
      "3      0.598658  0.508571          7\n",
      "4      0.156019  0.907566          3\n",
      "..          ...       ...        ...\n",
      "95     0.493796  0.349210          3\n",
      "96     0.522733  0.725956          3\n",
      "97     0.427541  0.897110          0\n",
      "98     0.025419       NaN          7\n",
      "99     0.107891  0.779876          2\n",
      "\n",
      "[100 rows x 3 columns]\n",
      "0     0\n",
      "1     0\n",
      "2     1\n",
      "3     1\n",
      "4     1\n",
      "     ..\n",
      "95    0\n",
      "96    1\n",
      "97    1\n",
      "98    1\n",
      "99    0\n",
      "Name: Rainy, Length: 100, dtype: int64\n"
     ]
    }
   ],
   "source": [
    "# think what are the inputs and what is the output, what data we need for model training and what operation should we do on data\n",
    "X = df.iloc[:,:-1]\n",
    "y = df.iloc[:,-1]\n",
    "\n",
    "print(X)\n",
    "print(y)"
   ]
  },
  {
   "cell_type": "markdown",
   "id": "f199cac4-bb8b-4871-9f00-21a82ab0db9c",
   "metadata": {},
   "source": [
    "## Missing data"
   ]
  },
  {
   "cell_type": "markdown",
   "id": "029a128a-6318-43fb-ac57-0fe781877984",
   "metadata": {},
   "source": [
    "-> ignore them </br>\n",
    "-> replace them (average, median, most frequent value, predict with algorithm, ...)"
   ]
  },
  {
   "cell_type": "code",
   "execution_count": 21,
   "id": "f6ada19f-9224-46e2-a2ec-c26f3f840824",
   "metadata": {},
   "outputs": [
    {
     "name": "stdout",
     "output_type": "stream",
     "text": [
      "    Temperature  Humidity  WindSpeed\n",
      "0      0.374540  0.031429          7\n",
      "1      0.950714  0.636410          3\n",
      "2      0.731994  0.314356          0\n",
      "3      0.598658  0.508571          7\n",
      "4      0.156019  0.907566          3\n",
      "..          ...       ...        ...\n",
      "95     0.493796  0.349210          3\n",
      "96     0.522733  0.725956          3\n",
      "97     0.427541  0.897110          0\n",
      "98     0.025419  0.478728          7\n",
      "99     0.107891  0.779876          2\n",
      "\n",
      "[100 rows x 3 columns]\n"
     ]
    }
   ],
   "source": [
    "from sklearn.impute import SimpleImputer\n",
    "imp_mean = SimpleImputer(missing_values = np.nan, strategy = 'mean')\n",
    "imp_mean.fit(X.iloc[:, 0:2])\n",
    "X.iloc[:, 0:2] = imp_mean.transform(X.iloc[:, 0:2])\n",
    "\n",
    "print(X)"
   ]
  },
  {
   "cell_type": "markdown",
   "id": "a7ca1b7e-7eb6-47f3-8e28-5286756ad675",
   "metadata": {},
   "source": [
    "## Splitting data into training and testing dataset"
   ]
  },
  {
   "cell_type": "code",
   "execution_count": 26,
   "id": "a9ab9f0c-5645-4b26-acb5-a229c18c3874",
   "metadata": {},
   "outputs": [
    {
     "name": "stdout",
     "output_type": "stream",
     "text": [
      "    Temperature  Humidity  WindSpeed\n",
      "83     0.063558  0.877339          5\n",
      "53     0.894827  0.489453          4\n",
      "70     0.772245  0.478728          7\n",
      "45     0.662522  0.036887          3\n",
      "44     0.258780  0.284840          2\n",
      "39     0.440152  0.971782          1\n",
      "22     0.292145  0.318003          4\n",
      "80     0.863103  0.341066          7\n",
      "10     0.020584  0.289751          2\n",
      "0      0.374540  0.031429          7\n",
      "18     0.431945  0.892559          3\n",
      "30     0.607545  0.417411          2\n",
      "73     0.815461  0.226496          5\n",
      "33     0.948886  0.337615          5\n",
      "90     0.119594  0.093103          8\n",
      "4      0.156019  0.907566          3\n",
      "76     0.771270  0.690938          9\n",
      "77     0.074045  0.386735          1\n",
      "12     0.832443  0.929698          1\n",
      "31     0.170524  0.222108          5\n",
      "55     0.921874  0.242055          0\n",
      "88     0.887213  0.529651          2\n",
      "26     0.199674  0.818015          6\n",
      "42     0.034389  0.497249          0\n",
      "69     0.986887  0.590893          2\n",
      "83    0\n",
      "53    0\n",
      "70    0\n",
      "45    1\n",
      "44    0\n",
      "39    1\n",
      "22    1\n",
      "80    1\n",
      "10    0\n",
      "0     0\n",
      "18    1\n",
      "30    0\n",
      "73    1\n",
      "33    1\n",
      "90    0\n",
      "4     1\n",
      "76    1\n",
      "77    1\n",
      "12    0\n",
      "31    1\n",
      "55    1\n",
      "88    0\n",
      "26    1\n",
      "42    0\n",
      "69    1\n",
      "Name: Rainy, dtype: int64\n"
     ]
    }
   ],
   "source": [
    "# it will put random rows into training and testing dataset\n",
    "from sklearn.model_selection import train_test_split\n",
    "X_train, X_test, y_train, y_test = train_test_split(X, y, test_size=0.25, random_state=42)\n",
    "\n",
    "print(X_test)\n",
    "print(y_test)"
   ]
  },
  {
   "cell_type": "markdown",
   "id": "c652b34a-1a99-42e7-8ac5-757dce2e42c8",
   "metadata": {},
   "source": [
    "# Training the Decision Tree Classification Model "
   ]
  },
  {
   "cell_type": "code",
   "execution_count": 30,
   "id": "903ede37-5df2-43cc-a5b4-a8878cbe2833",
   "metadata": {},
   "outputs": [
    {
     "data": {
      "text/html": [
       "<style>#sk-container-id-1 {color: black;background-color: white;}#sk-container-id-1 pre{padding: 0;}#sk-container-id-1 div.sk-toggleable {background-color: white;}#sk-container-id-1 label.sk-toggleable__label {cursor: pointer;display: block;width: 100%;margin-bottom: 0;padding: 0.3em;box-sizing: border-box;text-align: center;}#sk-container-id-1 label.sk-toggleable__label-arrow:before {content: \"▸\";float: left;margin-right: 0.25em;color: #696969;}#sk-container-id-1 label.sk-toggleable__label-arrow:hover:before {color: black;}#sk-container-id-1 div.sk-estimator:hover label.sk-toggleable__label-arrow:before {color: black;}#sk-container-id-1 div.sk-toggleable__content {max-height: 0;max-width: 0;overflow: hidden;text-align: left;background-color: #f0f8ff;}#sk-container-id-1 div.sk-toggleable__content pre {margin: 0.2em;color: black;border-radius: 0.25em;background-color: #f0f8ff;}#sk-container-id-1 input.sk-toggleable__control:checked~div.sk-toggleable__content {max-height: 200px;max-width: 100%;overflow: auto;}#sk-container-id-1 input.sk-toggleable__control:checked~label.sk-toggleable__label-arrow:before {content: \"▾\";}#sk-container-id-1 div.sk-estimator input.sk-toggleable__control:checked~label.sk-toggleable__label {background-color: #d4ebff;}#sk-container-id-1 div.sk-label input.sk-toggleable__control:checked~label.sk-toggleable__label {background-color: #d4ebff;}#sk-container-id-1 input.sk-hidden--visually {border: 0;clip: rect(1px 1px 1px 1px);clip: rect(1px, 1px, 1px, 1px);height: 1px;margin: -1px;overflow: hidden;padding: 0;position: absolute;width: 1px;}#sk-container-id-1 div.sk-estimator {font-family: monospace;background-color: #f0f8ff;border: 1px dotted black;border-radius: 0.25em;box-sizing: border-box;margin-bottom: 0.5em;}#sk-container-id-1 div.sk-estimator:hover {background-color: #d4ebff;}#sk-container-id-1 div.sk-parallel-item::after {content: \"\";width: 100%;border-bottom: 1px solid gray;flex-grow: 1;}#sk-container-id-1 div.sk-label:hover label.sk-toggleable__label {background-color: #d4ebff;}#sk-container-id-1 div.sk-serial::before {content: \"\";position: absolute;border-left: 1px solid gray;box-sizing: border-box;top: 0;bottom: 0;left: 50%;z-index: 0;}#sk-container-id-1 div.sk-serial {display: flex;flex-direction: column;align-items: center;background-color: white;padding-right: 0.2em;padding-left: 0.2em;position: relative;}#sk-container-id-1 div.sk-item {position: relative;z-index: 1;}#sk-container-id-1 div.sk-parallel {display: flex;align-items: stretch;justify-content: center;background-color: white;position: relative;}#sk-container-id-1 div.sk-item::before, #sk-container-id-1 div.sk-parallel-item::before {content: \"\";position: absolute;border-left: 1px solid gray;box-sizing: border-box;top: 0;bottom: 0;left: 50%;z-index: -1;}#sk-container-id-1 div.sk-parallel-item {display: flex;flex-direction: column;z-index: 1;position: relative;background-color: white;}#sk-container-id-1 div.sk-parallel-item:first-child::after {align-self: flex-end;width: 50%;}#sk-container-id-1 div.sk-parallel-item:last-child::after {align-self: flex-start;width: 50%;}#sk-container-id-1 div.sk-parallel-item:only-child::after {width: 0;}#sk-container-id-1 div.sk-dashed-wrapped {border: 1px dashed gray;margin: 0 0.4em 0.5em 0.4em;box-sizing: border-box;padding-bottom: 0.4em;background-color: white;}#sk-container-id-1 div.sk-label label {font-family: monospace;font-weight: bold;display: inline-block;line-height: 1.2em;}#sk-container-id-1 div.sk-label-container {text-align: center;}#sk-container-id-1 div.sk-container {/* jupyter's `normalize.less` sets `[hidden] { display: none; }` but bootstrap.min.css set `[hidden] { display: none !important; }` so we also need the `!important` here to be able to override the default hidden behavior on the sphinx rendered scikit-learn.org. See: https://github.com/scikit-learn/scikit-learn/issues/21755 */display: inline-block !important;position: relative;}#sk-container-id-1 div.sk-text-repr-fallback {display: none;}</style><div id=\"sk-container-id-1\" class=\"sk-top-container\"><div class=\"sk-text-repr-fallback\"><pre>DecisionTreeClassifier(criterion=&#x27;entropy&#x27;, random_state=0)</pre><b>In a Jupyter environment, please rerun this cell to show the HTML representation or trust the notebook. <br />On GitHub, the HTML representation is unable to render, please try loading this page with nbviewer.org.</b></div><div class=\"sk-container\" hidden><div class=\"sk-item\"><div class=\"sk-estimator sk-toggleable\"><input class=\"sk-toggleable__control sk-hidden--visually\" id=\"sk-estimator-id-1\" type=\"checkbox\" checked><label for=\"sk-estimator-id-1\" class=\"sk-toggleable__label sk-toggleable__label-arrow\">DecisionTreeClassifier</label><div class=\"sk-toggleable__content\"><pre>DecisionTreeClassifier(criterion=&#x27;entropy&#x27;, random_state=0)</pre></div></div></div></div></div>"
      ],
      "text/plain": [
       "DecisionTreeClassifier(criterion='entropy', random_state=0)"
      ]
     },
     "execution_count": 30,
     "metadata": {},
     "output_type": "execute_result"
    }
   ],
   "source": [
    "from sklearn.tree import DecisionTreeClassifier\n",
    "classifier = DecisionTreeClassifier(criterion = 'entropy', random_state = 0)\n",
    "classifier.fit(X_train, y_train)"
   ]
  },
  {
   "cell_type": "markdown",
   "id": "d2e548a9-9dc5-485c-9f43-0e38c4e2e0ce",
   "metadata": {},
   "source": [
    "# Testing the Model with Predictions"
   ]
  },
  {
   "cell_type": "code",
   "execution_count": 48,
   "id": "ce8fea07-0443-4892-a26f-c167ad926c44",
   "metadata": {},
   "outputs": [
    {
     "name": "stdout",
     "output_type": "stream",
     "text": [
      "[1]\n"
     ]
    }
   ],
   "source": [
    "# print(classifier.predict([[0.034389,0.497249,0]]))\n",
    "\n",
    "# Assuming your feature names are 'Temperature', 'Humidity', and 'WindSpeed'\n",
    "input_data = pd.DataFrame([[0.034389, 0.497249, 0]], columns=['Temperature', 'Humidity', 'WindSpeed'])\n",
    "\n",
    "# Make the prediction\n",
    "print(classifier.predict(input_data))"
   ]
  },
  {
   "cell_type": "code",
   "execution_count": 49,
   "id": "7576bd1c-53e0-419d-85e3-163a11241722",
   "metadata": {},
   "outputs": [
    {
     "name": "stdout",
     "output_type": "stream",
     "text": [
      "[1 0 0 0 0 1 0 0 1 0 1 0 0 0 0 1 0 0 0 1 1 0 0 1 1]\n",
      "[[1 0]\n",
      " [0 0]\n",
      " [0 0]\n",
      " [0 1]\n",
      " [0 0]\n",
      " [1 1]\n",
      " [0 1]\n",
      " [0 1]\n",
      " [1 0]\n",
      " [0 0]\n",
      " [1 1]\n",
      " [0 0]\n",
      " [0 1]\n",
      " [0 1]\n",
      " [0 0]\n",
      " [1 1]\n",
      " [0 1]\n",
      " [0 1]\n",
      " [0 0]\n",
      " [1 1]\n",
      " [1 1]\n",
      " [0 0]\n",
      " [0 1]\n",
      " [1 0]\n",
      " [1 1]]\n"
     ]
    }
   ],
   "source": [
    "y_pred = classifier.predict(X_test)\n",
    "print(y_pred)\n",
    "y_test = np.array(y_test)\n",
    "print(np.concatenate((y_pred.reshape(len(y_pred), 1), y_test.reshape(len(y_test), 1)), 1))"
   ]
  },
  {
   "cell_type": "code",
   "execution_count": 51,
   "id": "6b17da8a-b6c7-44ae-affd-c094b53f635d",
   "metadata": {},
   "outputs": [
    {
     "name": "stdout",
     "output_type": "stream",
     "text": [
      "[[8 3]\n",
      " [8 6]]\n"
     ]
    }
   ],
   "source": [
    "# HERE DECIDE IF U WANT CONFUSION_MATRIX IN THIS VIDEO OR NOT, OR JUST PRECENTAGE AND WHAT YOU ARE PLANNING TO USE IN 4TH VIDEO FOR EVALUATION\n",
    "from sklearn.metrics import confusion_matrix\n",
    "print(confusion_matrix(y_test, y_pred))"
   ]
  }
 ],
 "metadata": {
  "kernelspec": {
   "display_name": "Python 3 (ipykernel)",
   "language": "python",
   "name": "python3"
  },
  "language_info": {
   "codemirror_mode": {
    "name": "ipython",
    "version": 3
   },
   "file_extension": ".py",
   "mimetype": "text/x-python",
   "name": "python",
   "nbconvert_exporter": "python",
   "pygments_lexer": "ipython3",
   "version": "3.11.0"
  }
 },
 "nbformat": 4,
 "nbformat_minor": 5
}
